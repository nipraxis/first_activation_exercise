{
 "cells": [
  {
   "cell_type": "markdown",
   "id": "c8342e63",
   "metadata": {},
   "source": [
    "# First go at brain activation"
   ]
  },
  {
   "cell_type": "code",
   "execution_count": 1,
   "id": "10521f3e",
   "metadata": {
    "execution": {
     "iopub.execute_input": "2022-04-26T22:06:54.018737Z",
     "iopub.status.busy": "2022-04-26T22:06:54.017727Z",
     "iopub.status.idle": "2022-04-26T22:06:54.822328Z",
     "shell.execute_reply": "2022-04-26T22:06:54.822825Z"
    }
   },
   "outputs": [],
   "source": [
    "# import common modules\n",
    "import numpy as np  # the Python array package\n",
    "import matplotlib.pyplot as plt  # the Python plotting package\n",
    "# Display array values to 6 digits of precision\n",
    "np.set_printoptions(precision=4, suppress=True)\n",
    "\n",
    "# Image library.\n",
    "import nibabel as nib\n",
    "\n",
    "# Course library.\n",
    "import nipraxis"
   ]
  },
  {
   "cell_type": "markdown",
   "id": "2e43e24a",
   "metadata": {},
   "source": [
    "## The simplest possible way to find task activation\n",
    "\n",
    "We are going to look at a functional MRI task run, taken while the subject did\n",
    "a task.  The task was a block design, where the subject rested, then thought of\n",
    "as many verbs as they could for 30 seconds, then rested for 30 seconds, and so\n",
    "on.\n",
    "\n",
    "We are interested to find voxels that have higher signal for the scans while the subject was doing the task, then when the subject was resting.\n",
    "\n",
    "One very simple way of doing this, is the following:\n",
    "\n",
    "* Identify all the scans taken while the subject was doing the task.  Call\n",
    "  these the *task volumes*.  Take an average across volume, of these task\n",
    "  volumes to get a *task average* volume.\n",
    "* Do the same thing for the rest volumes to get a *rest average* volume.\n",
    "* Subtract the rest average volume from the task average volume to get the\n",
    "  *difference average* volume.\n",
    "\n",
    "Voxels with high signal in the *difference average* volume are voxels that had\n",
    "higher average signal during the task scans than during the rest scans.  These\n",
    "may be voxels *activated* by the task."
   ]
  },
  {
   "cell_type": "markdown",
   "id": "64fea333",
   "metadata": {},
   "source": [
    "## The task time-course\n",
    "\n",
    "We have previously had a look at the file `ds114_sub009_t2r1.nii`. This is a 4D\n",
    "FMRI image."
   ]
  },
  {
   "cell_type": "code",
   "execution_count": 2,
   "id": "7bb8b5f9",
   "metadata": {
    "execution": {
     "iopub.execute_input": "2022-04-26T22:06:54.826998Z",
     "iopub.status.busy": "2022-04-26T22:06:54.826316Z",
     "iopub.status.idle": "2022-04-26T22:06:54.905324Z",
     "shell.execute_reply": "2022-04-26T22:06:54.905761Z"
    }
   },
   "outputs": [],
   "source": [
    "# Fetch the data file to this computer.\n",
    "bold_fname = nipraxis.fetch_file('ds114_sub009_t2r1.nii')\n",
    "# Show the filename\n",
    "bold_fname"
   ]
  },
  {
   "cell_type": "markdown",
   "id": "b10a3c56",
   "metadata": {},
   "source": [
    "Now we want to see whether we can detect any signal in that image relating to\n",
    "the task.\n",
    "\n",
    "The task was a block design with 10 seconds rest followed by 7 repeats of (30\n",
    "seconds when the subject thought of verbs followed by 30 seconds rest). This\n",
    "is called a “covert” task, because the subjects were thinking of verbs instead\n",
    "of saying them.\n",
    "\n",
    "We next fetch the text file containing information about the block onsets. It\n",
    "comes from subject 9 task 2 and run 1 of the [ds114\n",
    "dataset](https://openfmri.org/dataset/ds000114), from the [OpenFMRI](https://openfmri.org/) project."
   ]
  },
  {
   "cell_type": "code",
   "execution_count": 3,
   "id": "dadfdd0f",
   "metadata": {
    "execution": {
     "iopub.execute_input": "2022-04-26T22:06:54.909358Z",
     "iopub.status.busy": "2022-04-26T22:06:54.908757Z",
     "iopub.status.idle": "2022-04-26T22:06:54.912804Z",
     "shell.execute_reply": "2022-04-26T22:06:54.913223Z"
    }
   },
   "outputs": [],
   "source": [
    "# Fetch the task definition file to this computer.\n",
    "stim_fname = nipraxis.fetch_file('ds114_sub009_t2r1_cond.txt')\n",
    "# Show the filename\n",
    "stim_fname"
   ]
  },
  {
   "cell_type": "markdown",
   "id": "ac0afcca",
   "metadata": {},
   "source": [
    "The file has one line of text per “on” block, giving the onset time of the\n",
    "block (in seconds), the duration of the block (in seconds) and the amplitude\n",
    "(expected amount of activation for this block - not used in this case).\n",
    "\n",
    "Here are the first four lines:\n",
    "\n",
    "```\n",
    "10  30.000000   1\n",
    "70  30.000000   1\n",
    "130 30.000000   1\n",
    "190 30.000000   1\n",
    "```\n",
    "\n",
    "Read the file into a (number of blocks by 3) array called `task`."
   ]
  },
  {
   "cell_type": "code",
   "execution_count": 4,
   "id": "4356693b",
   "metadata": {
    "execution": {
     "iopub.execute_input": "2022-04-26T22:06:54.916943Z",
     "iopub.status.busy": "2022-04-26T22:06:54.916334Z",
     "iopub.status.idle": "2022-04-26T22:06:54.920137Z",
     "shell.execute_reply": "2022-04-26T22:06:54.920561Z"
    }
   },
   "outputs": [],
   "source": [
    "#- Read the file into an array called \"task\".\n",
    "#- \"task\" should have 3 columns (onset, duration, amplitude)\n",
    "task = np.loadtxt(stim_fname)\n",
    "# Show the result.\n",
    "task"
   ]
  },
  {
   "cell_type": "markdown",
   "id": "77f3b917",
   "metadata": {},
   "source": [
    "The repetition time (time to repeat, TR) for this FMRI run was 2.5 seconds. We\n",
    "need to convert the onsets and durations to TRs - so for example the first\n",
    "onset was at 10 seconds, which was the start of TR 4 (10 / 2.5).\n",
    "\n",
    "Select out the first two columns of task, and divide by the TR to convert the\n",
    "onset and duration times to be in terms of TRs instead of seconds:"
   ]
  },
  {
   "cell_type": "code",
   "execution_count": 5,
   "id": "7a693395",
   "metadata": {
    "execution": {
     "iopub.execute_input": "2022-04-26T22:06:54.924909Z",
     "iopub.status.busy": "2022-04-26T22:06:54.924259Z",
     "iopub.status.idle": "2022-04-26T22:06:54.927254Z",
     "shell.execute_reply": "2022-04-26T22:06:54.926648Z"
    }
   },
   "outputs": [],
   "source": [
    "#- Select first two columns and divide by TR\n",
    "ons_durs = task[:, :2] / 2.5\n",
    "# Show the result\n",
    "ons_durs"
   ]
  },
  {
   "cell_type": "code",
   "execution_count": 6,
   "id": "465699f2",
   "metadata": {
    "execution": {
     "iopub.execute_input": "2022-04-26T22:06:54.931168Z",
     "iopub.status.busy": "2022-04-26T22:06:54.930568Z",
     "iopub.status.idle": "2022-04-26T22:06:54.932433Z",
     "shell.execute_reply": "2022-04-26T22:06:54.932965Z"
    },
    "lines_to_next_cell": 2
   },
   "outputs": [],
   "source": [
    "assert ons_durs.shape == (7, 2)\n",
    "assert np.all(ons_durs[-1] == [148, 12])"
   ]
  },
  {
   "cell_type": "markdown",
   "id": "f57591e8",
   "metadata": {},
   "source": [
    "Our next step is to make an on-off vector that is 0 when the subject is doing\n",
    "nothing and 1 when the subject is doing the covert verb task.\n",
    "\n",
    "The vector will have one value (either 0 or 1) for each TR.\n",
    "\n",
    "First use nibabel to load the image `ds114_sub009_t2r1.nii`. Check the image\n",
    "shape to find the number of TRs."
   ]
  },
  {
   "cell_type": "code",
   "execution_count": 7,
   "id": "92ded42f",
   "metadata": {
    "execution": {
     "iopub.execute_input": "2022-04-26T22:06:54.936563Z",
     "iopub.status.busy": "2022-04-26T22:06:54.935921Z",
     "iopub.status.idle": "2022-04-26T22:06:54.940193Z",
     "shell.execute_reply": "2022-04-26T22:06:54.940616Z"
    }
   },
   "outputs": [],
   "source": [
    "#- Load the image and check the image shape to get the number of TRs\n",
    "img = nib.load(bold_fname)\n",
    "# Show the shape of the image.\n",
    "img.shape"
   ]
  },
  {
   "cell_type": "markdown",
   "id": "8805206c",
   "metadata": {},
   "source": [
    "Next make a new vector called `time_course` with one entry per TR, with all\n",
    "elements in the vector being zero:"
   ]
  },
  {
   "cell_type": "code",
   "execution_count": 8,
   "id": "4e32a2ec",
   "metadata": {
    "execution": {
     "iopub.execute_input": "2022-04-26T22:06:54.944257Z",
     "iopub.status.busy": "2022-04-26T22:06:54.943611Z",
     "iopub.status.idle": "2022-04-26T22:06:54.945612Z",
     "shell.execute_reply": "2022-04-26T22:06:54.946068Z"
    }
   },
   "outputs": [],
   "source": [
    "#- Make new zero vector\n",
    "time_course = np.zeros(img.shape[-1])"
   ]
  },
  {
   "cell_type": "code",
   "execution_count": 9,
   "id": "97bf8369",
   "metadata": {
    "execution": {
     "iopub.execute_input": "2022-04-26T22:06:54.949678Z",
     "iopub.status.busy": "2022-04-26T22:06:54.949087Z",
     "iopub.status.idle": "2022-04-26T22:06:54.951165Z",
     "shell.execute_reply": "2022-04-26T22:06:54.951630Z"
    },
    "lines_to_next_cell": 2
   },
   "outputs": [],
   "source": [
    "assert isinstance(time_course, np.ndarray)\n",
    "assert time_course.shape == (img.shape[-1],)"
   ]
  },
  {
   "cell_type": "markdown",
   "id": "6b9f6688",
   "metadata": {},
   "source": [
    "Loop over the rows in the onsets / durations array to give you an onset /\n",
    "duration pair. For each of these pairs, set the matching positions in the\n",
    "`time_course` vector to 1. For example, the first pair will be `4, 12`. That\n",
    "means the task started at the beginning of scan index 4, and lasted for 12\n",
    "scans. There should be 12 consecutive 1 values in `time_course`,\n",
    "starting at index 4. Index 4 + 12 = 16 should be zero again, because there are\n",
    "12 values starting at (including) 4 going up to (but *not* including) 16."
   ]
  },
  {
   "cell_type": "code",
   "execution_count": 10,
   "id": "d53951a7",
   "metadata": {
    "execution": {
     "iopub.execute_input": "2022-04-26T22:06:54.955385Z",
     "iopub.status.busy": "2022-04-26T22:06:54.954795Z",
     "iopub.status.idle": "2022-04-26T22:06:54.957189Z",
     "shell.execute_reply": "2022-04-26T22:06:54.957674Z"
    }
   },
   "outputs": [],
   "source": [
    "# Try running this if you don't believe me\n",
    "len(range(4, 16))"
   ]
  },
  {
   "cell_type": "markdown",
   "id": "34b041ee",
   "metadata": {},
   "source": [
    "So, for the first row, you will want to set `time_course[4]` through\n",
    "`time_course[15]` equal to 1.\n",
    "\n",
    "**Hint** - you may consider converting `ons_durs` to integers to make your task\n",
    "easier."
   ]
  },
  {
   "cell_type": "code",
   "execution_count": 11,
   "id": "1c72515d",
   "metadata": {
    "execution": {
     "iopub.execute_input": "2022-04-26T22:06:54.961292Z",
     "iopub.status.busy": "2022-04-26T22:06:54.960551Z",
     "iopub.status.idle": "2022-04-26T22:06:54.967557Z",
     "shell.execute_reply": "2022-04-26T22:06:54.967979Z"
    }
   },
   "outputs": [],
   "source": [
    "#- Fill in values of 1 for positions of on blocks in time course\n",
    "for onset, duration in ons_durs.astype(int):\n",
    "    time_course[onset:onset + duration] = 1\n",
    "# Show the result\n",
    "time_course"
   ]
  },
  {
   "cell_type": "markdown",
   "id": "4f9c0774",
   "metadata": {},
   "source": [
    "Plot the time course:"
   ]
  },
  {
   "cell_type": "code",
   "execution_count": 12,
   "id": "ae45a76c",
   "metadata": {
    "execution": {
     "iopub.execute_input": "2022-04-26T22:06:54.990902Z",
     "iopub.status.busy": "2022-04-26T22:06:54.990214Z",
     "iopub.status.idle": "2022-04-26T22:06:55.103339Z",
     "shell.execute_reply": "2022-04-26T22:06:55.103851Z"
    }
   },
   "outputs": [],
   "source": [
    "#- Plot the time course\n",
    "plt.plot(time_course)"
   ]
  },
  {
   "cell_type": "markdown",
   "id": "e0afd05c",
   "metadata": {},
   "source": [
    "## Comparing task to rest\n",
    "\n",
    "Make a boolean array `is_task_tr` which is True when `time_course` is 1\n",
    "and False otherwise.\n",
    "\n",
    "Make another array `is_rest_tr` that is the opposite - True when\n",
    "`time_course` is 0 and False otherwise."
   ]
  },
  {
   "cell_type": "code",
   "execution_count": 13,
   "id": "91b4ee1f",
   "metadata": {
    "execution": {
     "iopub.execute_input": "2022-04-26T22:06:55.107856Z",
     "iopub.status.busy": "2022-04-26T22:06:55.107254Z",
     "iopub.status.idle": "2022-04-26T22:06:55.109000Z",
     "shell.execute_reply": "2022-04-26T22:06:55.109415Z"
    }
   },
   "outputs": [],
   "source": [
    "#- Make two boolean arrays encoding task, rest\n",
    "is_task_tr = (time_course == 1)\n",
    "is_rest_tr = (time_course == 0)"
   ]
  },
  {
   "cell_type": "code",
   "execution_count": 14,
   "id": "ccac677f",
   "metadata": {
    "execution": {
     "iopub.execute_input": "2022-04-26T22:06:55.113125Z",
     "iopub.status.busy": "2022-04-26T22:06:55.112465Z",
     "iopub.status.idle": "2022-04-26T22:06:55.114429Z",
     "shell.execute_reply": "2022-04-26T22:06:55.114910Z"
    }
   },
   "outputs": [],
   "source": [
    "assert np.count_nonzero(is_task_tr) == 84  # 84 task scans\n",
    "assert np.count_nonzero(is_rest_tr) == 89  # 89 rest scans"
   ]
  },
  {
   "cell_type": "markdown",
   "id": "9b44dd87",
   "metadata": {},
   "source": [
    "Read the image data as a 4D array:"
   ]
  },
  {
   "cell_type": "code",
   "execution_count": 15,
   "id": "efeff9e9",
   "metadata": {
    "execution": {
     "iopub.execute_input": "2022-04-26T22:06:55.142285Z",
     "iopub.status.busy": "2022-04-26T22:06:55.118072Z",
     "iopub.status.idle": "2022-04-26T22:06:55.234191Z",
     "shell.execute_reply": "2022-04-26T22:06:55.234611Z"
    }
   },
   "outputs": [],
   "source": [
    "#- Read the image data  an array.\n",
    "data = img.get_fdata()\n",
    "# Show the shape of the resulting array.\n",
    "data.shape"
   ]
  },
  {
   "cell_type": "markdown",
   "id": "4296bf98",
   "metadata": {},
   "source": [
    "Remember that the 4D array consists of one volume (3D array) per TR.\n",
    "\n",
    "We want to select the volumes where the time course is 1 (task volumes).  Do\n",
    "this by slicing, using the boolean array you just made."
   ]
  },
  {
   "cell_type": "code",
   "execution_count": 16,
   "id": "a7c0b27f",
   "metadata": {
    "execution": {
     "iopub.execute_input": "2022-04-26T22:06:55.238559Z",
     "iopub.status.busy": "2022-04-26T22:06:55.237912Z",
     "iopub.status.idle": "2022-04-26T22:06:55.281084Z",
     "shell.execute_reply": "2022-04-26T22:06:55.281513Z"
    }
   },
   "outputs": [],
   "source": [
    "#- Create a new 4D array only containing the task volumes\n",
    "on_volumes = data[..., is_task_tr]"
   ]
  },
  {
   "cell_type": "code",
   "execution_count": 17,
   "id": "2882599d",
   "metadata": {
    "execution": {
     "iopub.execute_input": "2022-04-26T22:06:55.285562Z",
     "iopub.status.busy": "2022-04-26T22:06:55.284950Z",
     "iopub.status.idle": "2022-04-26T22:06:55.286801Z",
     "shell.execute_reply": "2022-04-26T22:06:55.287224Z"
    },
    "lines_to_next_cell": 2
   },
   "outputs": [],
   "source": [
    "assert on_volumes.shape == data.shape[:-1] + (84,)"
   ]
  },
  {
   "cell_type": "markdown",
   "id": "9031d225",
   "metadata": {},
   "source": [
    "Select the volumes where the time course is 0 (rest volumes):"
   ]
  },
  {
   "cell_type": "code",
   "execution_count": 18,
   "id": "0561dbb7",
   "metadata": {
    "execution": {
     "iopub.execute_input": "2022-04-26T22:06:55.290729Z",
     "iopub.status.busy": "2022-04-26T22:06:55.290073Z",
     "iopub.status.idle": "2022-04-26T22:06:55.348380Z",
     "shell.execute_reply": "2022-04-26T22:06:55.348810Z"
    }
   },
   "outputs": [],
   "source": [
    "#- Create a new 4D array only containing the rest volumes\n",
    "off_volumes = data[..., is_rest_tr]"
   ]
  },
  {
   "cell_type": "code",
   "execution_count": 19,
   "id": "565758d7",
   "metadata": {
    "execution": {
     "iopub.execute_input": "2022-04-26T22:06:55.352945Z",
     "iopub.status.busy": "2022-04-26T22:06:55.352324Z",
     "iopub.status.idle": "2022-04-26T22:06:55.354210Z",
     "shell.execute_reply": "2022-04-26T22:06:55.354629Z"
    }
   },
   "outputs": [],
   "source": [
    "assert off_volumes.shape == data.shape[:-1] + (89,)"
   ]
  },
  {
   "cell_type": "markdown",
   "id": "cfa4f5f2",
   "metadata": {},
   "source": [
    "We want to know whether there is a difference in signal in the task volumes\n",
    "compared to the rest volumes. Take the mean over the task volumes and mean\n",
    "over the rest volumes. You should end up with two 3D volumes."
   ]
  },
  {
   "cell_type": "code",
   "execution_count": 20,
   "id": "7228a397",
   "metadata": {
    "execution": {
     "iopub.execute_input": "2022-04-26T22:06:55.358359Z",
     "iopub.status.busy": "2022-04-26T22:06:55.357724Z",
     "iopub.status.idle": "2022-04-26T22:06:55.375251Z",
     "shell.execute_reply": "2022-04-26T22:06:55.375742Z"
    }
   },
   "outputs": [],
   "source": [
    "#- Create the mean volume across all the task volumes.\n",
    "#- Then create the mean volume across all the rest volumes\n",
    "# Hint: remember the `axis` keyword.\n",
    "on_mean = on_volumes.mean(axis=-1)\n",
    "off_mean = off_volumes.mean(axis=-1)"
   ]
  },
  {
   "cell_type": "code",
   "execution_count": 21,
   "id": "d70486e5",
   "metadata": {
    "execution": {
     "iopub.execute_input": "2022-04-26T22:06:55.379583Z",
     "iopub.status.busy": "2022-04-26T22:06:55.378972Z",
     "iopub.status.idle": "2022-04-26T22:06:55.380798Z",
     "shell.execute_reply": "2022-04-26T22:06:55.381220Z"
    }
   },
   "outputs": [],
   "source": [
    "assert on_mean.shape == data.shape[:-1]\n",
    "assert off_mean.shape == data.shape[:-1]"
   ]
  },
  {
   "cell_type": "markdown",
   "id": "1bfb6922",
   "metadata": {},
   "source": [
    "Now subtract the rest mean from the task mean to get a difference volume."
   ]
  },
  {
   "cell_type": "code",
   "execution_count": 22,
   "id": "b9a93d0a",
   "metadata": {
    "execution": {
     "iopub.execute_input": "2022-04-26T22:06:55.384543Z",
     "iopub.status.busy": "2022-04-26T22:06:55.383948Z",
     "iopub.status.idle": "2022-04-26T22:06:55.386424Z",
     "shell.execute_reply": "2022-04-26T22:06:55.386849Z"
    }
   },
   "outputs": [],
   "source": [
    "#- Create a difference volume\n",
    "difference = on_mean - off_mean"
   ]
  },
  {
   "cell_type": "code",
   "execution_count": 23,
   "id": "5ec90ce8",
   "metadata": {
    "execution": {
     "iopub.execute_input": "2022-04-26T22:06:55.390418Z",
     "iopub.status.busy": "2022-04-26T22:06:55.389827Z",
     "iopub.status.idle": "2022-04-26T22:06:55.391593Z",
     "shell.execute_reply": "2022-04-26T22:06:55.392093Z"
    }
   },
   "outputs": [],
   "source": [
    "assert difference.shape == data.shape[:-1]"
   ]
  },
  {
   "cell_type": "markdown",
   "id": "2137668b",
   "metadata": {},
   "source": [
    "Show a slice over the third dimension of the difference volume, from somewhere\n",
    "around the center of the third axis:"
   ]
  },
  {
   "cell_type": "code",
   "execution_count": 24,
   "id": "4cabea88",
   "metadata": {
    "execution": {
     "iopub.execute_input": "2022-04-26T22:06:55.411918Z",
     "iopub.status.busy": "2022-04-26T22:06:55.411118Z",
     "iopub.status.idle": "2022-04-26T22:06:55.519929Z",
     "shell.execute_reply": "2022-04-26T22:06:55.520353Z"
    }
   },
   "outputs": [],
   "source": [
    "#- Show a slice over the third dimension\n",
    "plt.imshow(difference[:, :, 14], cmap='gray')"
   ]
  },
  {
   "cell_type": "markdown",
   "id": "a21a9e9e",
   "metadata": {},
   "source": [
    "This is the difference between activation and rest. It looks a little strange.\n",
    "Maybe there are some artefacts here."
   ]
  },
  {
   "cell_type": "markdown",
   "id": "b66bb510",
   "metadata": {},
   "source": [
    "## Fixing the artefact\n",
    "\n",
    "One way of looking for artefacts in a 4D image to find volumes with unusually\n",
    "high variance / standard deviation.\n",
    "\n",
    "There is one volume in this 4D image with particularly high standard deviation.\n",
    "\n",
    "In fact, this volume has a particularly high standard deviation across voxels.\n",
    "\n",
    "The standard deviation across voxels is the standard deviation of all the voxels in the 3D volume.  Thus, there will be one standard deviation across voxels, per volume.\n",
    "\n",
    "Calculate the standard deviation across voxels for each volume."
   ]
  },
  {
   "cell_type": "code",
   "execution_count": 25,
   "id": "31fee417",
   "metadata": {
    "execution": {
     "iopub.execute_input": "2022-04-26T22:06:55.524295Z",
     "iopub.status.busy": "2022-04-26T22:06:55.523701Z",
     "iopub.status.idle": "2022-04-26T22:06:56.187546Z",
     "shell.execute_reply": "2022-04-26T22:06:56.187970Z"
    }
   },
   "outputs": [],
   "source": [
    "#- Calculate the SD across voxels for each volume\n",
    "#- Identify the outlier volume\n",
    "voxels_by_time = data.reshape((-1, data.shape[-1]))\n",
    "stds = np.std(voxels_by_time, axis=0)\n",
    "# Plot the result\n",
    "plt.plot(stds)"
   ]
  },
  {
   "cell_type": "markdown",
   "id": "88642ff4",
   "metadata": {},
   "source": [
    "Which volume is this (what position)?\n",
    "\n",
    "Use your slicing skills to remove this volume from your selection of rest (off)\n",
    "volumes."
   ]
  },
  {
   "cell_type": "code",
   "execution_count": 26,
   "id": "fda41038",
   "metadata": {
    "execution": {
     "iopub.execute_input": "2022-04-26T22:06:56.192142Z",
     "iopub.status.busy": "2022-04-26T22:06:56.191452Z",
     "iopub.status.idle": "2022-04-26T22:06:56.194060Z",
     "shell.execute_reply": "2022-04-26T22:06:56.194485Z"
    }
   },
   "outputs": [],
   "source": [
    "#- Use slicing to remove outlier volume from rest volumes\n",
    "off_volumes_fixed = off_volumes[..., 1:]\n",
    "# Show the shape\n",
    "off_volumes_fixed.shape"
   ]
  },
  {
   "cell_type": "code",
   "execution_count": 27,
   "id": "05ba3239",
   "metadata": {
    "execution": {
     "iopub.execute_input": "2022-04-26T22:06:56.198316Z",
     "iopub.status.busy": "2022-04-26T22:06:56.197641Z",
     "iopub.status.idle": "2022-04-26T22:06:56.199514Z",
     "shell.execute_reply": "2022-04-26T22:06:56.199929Z"
    }
   },
   "outputs": [],
   "source": [
    "assert off_volumes_fixed.shape == data.shape[:-1] + (88,)"
   ]
  },
  {
   "cell_type": "markdown",
   "id": "b1ab5e10",
   "metadata": {},
   "source": [
    "Make a new mean for the rest volumes, and subtract this mean from the mean for\n",
    "the task volumes to make a new difference image.\n",
    "\n",
    "Give the new difference image a new name, so we can compare to the old\n",
    "difference image later."
   ]
  },
  {
   "cell_type": "code",
   "execution_count": 28,
   "id": "c3a0f60e",
   "metadata": {
    "execution": {
     "iopub.execute_input": "2022-04-26T22:06:56.203501Z",
     "iopub.status.busy": "2022-04-26T22:06:56.202802Z",
     "iopub.status.idle": "2022-04-26T22:06:56.214961Z",
     "shell.execute_reply": "2022-04-26T22:06:56.215437Z"
    }
   },
   "outputs": [],
   "source": [
    "#- Make new mean for rest volumes, subtract from task mean\n",
    "off_mean_fixed = off_volumes_fixed.mean(axis=-1)\n",
    "difference_fixed = on_mean - off_mean_fixed"
   ]
  },
  {
   "cell_type": "code",
   "execution_count": 29,
   "id": "18929ecb",
   "metadata": {
    "execution": {
     "iopub.execute_input": "2022-04-26T22:06:56.219181Z",
     "iopub.status.busy": "2022-04-26T22:06:56.218566Z",
     "iopub.status.idle": "2022-04-26T22:06:56.220325Z",
     "shell.execute_reply": "2022-04-26T22:06:56.220737Z"
    },
    "lines_to_next_cell": 2
   },
   "outputs": [],
   "source": [
    "assert difference_fixed.shape == data.shape[:-1]"
   ]
  },
  {
   "cell_type": "markdown",
   "id": "35f2f887",
   "metadata": {},
   "source": [
    "Show an example slice from the new difference volume. Show the same slice from\n",
    "the old difference volume, using matplotlib."
   ]
  },
  {
   "cell_type": "code",
   "execution_count": 30,
   "id": "f4994546",
   "metadata": {
    "execution": {
     "iopub.execute_input": "2022-04-26T22:06:56.236229Z",
     "iopub.status.busy": "2022-04-26T22:06:56.235467Z",
     "iopub.status.idle": "2022-04-26T22:06:56.331956Z",
     "shell.execute_reply": "2022-04-26T22:06:56.332379Z"
    }
   },
   "outputs": [],
   "source": [
    "#- show same slice from old and new difference volume\n",
    "plt.imshow(difference_fixed[:, :, 14], cmap='gray')"
   ]
  }
 ],
 "metadata": {
  "jupytext": {
   "notebook_metadata_filter": "all,-language_info",
   "split_at_heading": true,
   "text_representation": {
    "extension": ".Rmd",
    "format_name": "rmarkdown",
    "format_version": "1.2",
    "jupytext_version": "1.13.7"
   }
  },
  "kernelspec": {
   "display_name": "Python 3",
   "language": "python",
   "name": "python3"
  },
  "language_info": {
   "codemirror_mode": {
    "name": "ipython",
    "version": 3
   },
   "file_extension": ".py",
   "mimetype": "text/x-python",
   "name": "python",
   "nbconvert_exporter": "python",
   "pygments_lexer": "ipython3",
   "version": "3.8.13"
  }
 },
 "nbformat": 4,
 "nbformat_minor": 5
}
