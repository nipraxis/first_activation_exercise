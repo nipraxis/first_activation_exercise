{
 "cells": [
  {
   "cell_type": "markdown",
   "id": "fdc1440c",
   "metadata": {},
   "source": [
    "# First go at brain activation"
   ]
  },
  {
   "cell_type": "code",
   "execution_count": 1,
   "id": "5d329c47",
   "metadata": {
    "execution": {
     "iopub.execute_input": "2022-04-25T14:33:55.356412Z",
     "iopub.status.busy": "2022-04-25T14:33:55.355710Z",
     "iopub.status.idle": "2022-04-25T14:33:55.856342Z",
     "shell.execute_reply": "2022-04-25T14:33:55.856824Z"
    }
   },
   "outputs": [],
   "source": [
    "# import common modules\n",
    "import numpy as np  # the Python array package\n",
    "import matplotlib.pyplot as plt  # the Python plotting package\n",
    "# Display array values to 6 digits of precision\n",
    "np.set_printoptions(precision=4, suppress=True)\n",
    "\n",
    "# Image library.\n",
    "import nibabel as nib\n",
    "\n",
    "# Course library.\n",
    "import nipraxis"
   ]
  },
  {
   "cell_type": "markdown",
   "id": "5bef705f",
   "metadata": {},
   "source": [
    "## The task time-course\n",
    "\n",
    "We have previously had a look at the file `ds114_sub009_t2r1.nii`. This is a 4D\n",
    "FMRI image."
   ]
  },
  {
   "cell_type": "code",
   "execution_count": 2,
   "id": "24a49411",
   "metadata": {
    "execution": {
     "iopub.execute_input": "2022-04-25T14:33:55.860899Z",
     "iopub.status.busy": "2022-04-25T14:33:55.860290Z",
     "iopub.status.idle": "2022-04-25T14:33:55.933211Z",
     "shell.execute_reply": "2022-04-25T14:33:55.933615Z"
    }
   },
   "outputs": [],
   "source": [
    "# Fetch the data file to this computer.\n",
    "bold_fname = nipraxis.fetch_file('ds114_sub009_t2r1.nii')\n",
    "# Show the filename\n",
    "bold_fname"
   ]
  },
  {
   "cell_type": "markdown",
   "id": "cf8b848b",
   "metadata": {},
   "source": [
    "Now we want to see whether we can detect any signal in that image relating to\n",
    "the task.\n",
    "\n",
    "The task was a block design with 10 seconds rest followed by 7 repeats of (30\n",
    "seconds when the subject thought of verbs followed by 30 seconds rest). This\n",
    "is called a “covert” task, because the subjects were thinking of verbs instead\n",
    "of saying them.\n",
    "\n",
    "We next fetch the text file containing information about the block onsets. It\n",
    "comes from subject 9 task 2 and run 1 of the [ds114\n",
    "dataset](https://openfmri.org/dataset/ds000114), from the [OpenFMRI](https://openfmri.org/) project."
   ]
  },
  {
   "cell_type": "code",
   "execution_count": 3,
   "id": "7e0ce787",
   "metadata": {
    "execution": {
     "iopub.execute_input": "2022-04-25T14:33:55.937614Z",
     "iopub.status.busy": "2022-04-25T14:33:55.936931Z",
     "iopub.status.idle": "2022-04-25T14:33:55.940484Z",
     "shell.execute_reply": "2022-04-25T14:33:55.940943Z"
    }
   },
   "outputs": [],
   "source": [
    "# Fetch the task definition file to this computer.\n",
    "stim_fname = nipraxis.fetch_file('ds114_sub009_t2r1_cond.txt')\n",
    "# Show the filename\n",
    "stim_fname"
   ]
  },
  {
   "cell_type": "markdown",
   "id": "3d117204",
   "metadata": {},
   "source": [
    "The file has one line of text per “on” block, giving the onset time of the\n",
    "block (in seconds), the duration of the block (in seconds) and the amplitude\n",
    "(expected amount of activation for this block - not used in this case).\n",
    "\n",
    "Here are the first four lines:\n",
    "\n",
    "```\n",
    "10  30.000000   1\n",
    "70  30.000000   1\n",
    "130 30.000000   1\n",
    "190 30.000000   1\n",
    "```\n",
    "\n",
    "Read the file into a (number of blocks by 3) array called `task`."
   ]
  },
  {
   "cell_type": "code",
   "execution_count": 4,
   "id": "7a128ea4",
   "metadata": {
    "execution": {
     "iopub.execute_input": "2022-04-25T14:33:55.944748Z",
     "iopub.status.busy": "2022-04-25T14:33:55.944151Z",
     "iopub.status.idle": "2022-04-25T14:33:55.948135Z",
     "shell.execute_reply": "2022-04-25T14:33:55.948598Z"
    }
   },
   "outputs": [],
   "source": [
    "#- Read the file into an array called \"task\".\n",
    "#- \"task\" should have 3 columns (onset, duration, amplitude)\n",
    "task = np.loadtxt(stim_fname)\n",
    "# Show the result.\n",
    "task"
   ]
  },
  {
   "cell_type": "markdown",
   "id": "20ae446d",
   "metadata": {},
   "source": [
    "The repetition time (time to repeat, TR) for this FMRI run was 2.5 seconds. We\n",
    "need to convert the onsets and durations to TRs - so for example the first\n",
    "onset was at 10 seconds, which was the start of TR 4 (10 / 2.5).\n",
    "\n",
    "Select out the first two columns of task, and divide by the TR to convert the\n",
    "onset and duration times to be in terms of TRs instead of seconds:"
   ]
  },
  {
   "cell_type": "code",
   "execution_count": 5,
   "id": "6a67e31e",
   "metadata": {
    "execution": {
     "iopub.execute_input": "2022-04-25T14:33:55.953134Z",
     "iopub.status.busy": "2022-04-25T14:33:55.952417Z",
     "iopub.status.idle": "2022-04-25T14:33:55.955502Z",
     "shell.execute_reply": "2022-04-25T14:33:55.954981Z"
    }
   },
   "outputs": [],
   "source": [
    "#- Select first two columns and divide by TR\n",
    "ons_durs = task[:, :2] / 2.5\n",
    "# Show the result\n",
    "ons_durs"
   ]
  },
  {
   "cell_type": "code",
   "execution_count": 6,
   "id": "88244794",
   "metadata": {
    "execution": {
     "iopub.execute_input": "2022-04-25T14:33:55.959790Z",
     "iopub.status.busy": "2022-04-25T14:33:55.959134Z",
     "iopub.status.idle": "2022-04-25T14:33:55.961228Z",
     "shell.execute_reply": "2022-04-25T14:33:55.961726Z"
    },
    "lines_to_next_cell": 2
   },
   "outputs": [],
   "source": [
    "assert ons_durs.shape == (7, 2)\n",
    "assert np.all(ons_durs[-1] == [148, 12])"
   ]
  },
  {
   "cell_type": "markdown",
   "id": "1c176a58",
   "metadata": {},
   "source": [
    "Our next step is to make an on-off vector that is 0 when the subject is doing\n",
    "nothing and 1 when the subject is doing the covert verb task.\n",
    "\n",
    "The vector will have one value (either 0 or 1) for each TR.\n",
    "\n",
    "First use nibabel to load the image `ds114_sub009_t2r1.nii`. Check the image\n",
    "shape to find the number of TRs."
   ]
  },
  {
   "cell_type": "code",
   "execution_count": 7,
   "id": "4988cf2b",
   "metadata": {
    "execution": {
     "iopub.execute_input": "2022-04-25T14:33:55.965806Z",
     "iopub.status.busy": "2022-04-25T14:33:55.965166Z",
     "iopub.status.idle": "2022-04-25T14:33:55.969283Z",
     "shell.execute_reply": "2022-04-25T14:33:55.969802Z"
    }
   },
   "outputs": [],
   "source": [
    "#- Load the image and check the image shape to get the number of TRs\n",
    "img = nib.load(bold_fname)\n",
    "# Show the shape of the image.\n",
    "img.shape"
   ]
  },
  {
   "cell_type": "markdown",
   "id": "723d7303",
   "metadata": {},
   "source": [
    "Next make a new vector called `time_course` with one entry per TR, with all\n",
    "elements in the vector being zero:"
   ]
  },
  {
   "cell_type": "code",
   "execution_count": 8,
   "id": "5284f81a",
   "metadata": {
    "execution": {
     "iopub.execute_input": "2022-04-25T14:33:55.973650Z",
     "iopub.status.busy": "2022-04-25T14:33:55.972995Z",
     "iopub.status.idle": "2022-04-25T14:33:55.974835Z",
     "shell.execute_reply": "2022-04-25T14:33:55.975255Z"
    }
   },
   "outputs": [],
   "source": [
    "#- Make new zero vector\n",
    "time_course = np.zeros(img.shape[-1])"
   ]
  },
  {
   "cell_type": "code",
   "execution_count": 9,
   "id": "29328726",
   "metadata": {
    "execution": {
     "iopub.execute_input": "2022-04-25T14:33:55.979780Z",
     "iopub.status.busy": "2022-04-25T14:33:55.978904Z",
     "iopub.status.idle": "2022-04-25T14:33:55.981136Z",
     "shell.execute_reply": "2022-04-25T14:33:55.982082Z"
    },
    "lines_to_next_cell": 2
   },
   "outputs": [],
   "source": [
    "assert isinstance(time_course, np.ndarray)\n",
    "assert time_course.shape == (img.shape[-1],)"
   ]
  },
  {
   "cell_type": "markdown",
   "id": "b5725ad4",
   "metadata": {},
   "source": [
    "Loop over the rows in the onsets / durations array to give you an onset /\n",
    "duration pair. For each of these pairs, set the matching positions in the\n",
    "`time_course` vector to 1. For example, the first pair will be `4, 12`. That\n",
    "means the task started at the beginning of scan index 4, and lasted for 12\n",
    "scans. That means there should be 12 consecutive 1 values in `time_course`,\n",
    "starting at index 4. That means that index 4 + 12 = 16 should be zero again,\n",
    "because there are 12 values starting at (including 4) going up to (but *not*\n",
    "including) 16."
   ]
  },
  {
   "cell_type": "code",
   "execution_count": 10,
   "id": "2c17e874",
   "metadata": {
    "execution": {
     "iopub.execute_input": "2022-04-25T14:33:55.986222Z",
     "iopub.status.busy": "2022-04-25T14:33:55.985523Z",
     "iopub.status.idle": "2022-04-25T14:33:55.988248Z",
     "shell.execute_reply": "2022-04-25T14:33:55.988716Z"
    }
   },
   "outputs": [],
   "source": [
    "# Try running this if you don't believe me\n",
    "len(range(4, 16))"
   ]
  },
  {
   "cell_type": "markdown",
   "id": "ffb24f52",
   "metadata": {},
   "source": [
    "So, for the first row, you will want to set `time_course[4]` through\n",
    "`time_course[15]` equal to 1."
   ]
  },
  {
   "cell_type": "code",
   "execution_count": 11,
   "id": "cc24aae1",
   "metadata": {
    "execution": {
     "iopub.execute_input": "2022-04-25T14:33:55.995286Z",
     "iopub.status.busy": "2022-04-25T14:33:55.994514Z",
     "iopub.status.idle": "2022-04-25T14:33:55.997634Z",
     "shell.execute_reply": "2022-04-25T14:33:55.998073Z"
    }
   },
   "outputs": [],
   "source": [
    "#- Fill in values of 1 for positions of on blocks in time course\n",
    "# Convert onsets, durations to integers first\n",
    "ons_durs = np.round(ons_durs).astype(int)\n",
    "for onset, duration in ons_durs:\n",
    "    time_course[onset:onset + duration] = 1\n",
    "# Show the result\n",
    "time_course"
   ]
  },
  {
   "cell_type": "markdown",
   "id": "4301a1ef",
   "metadata": {},
   "source": [
    "Plot the time course:"
   ]
  },
  {
   "cell_type": "code",
   "execution_count": 12,
   "id": "852f43e8",
   "metadata": {
    "execution": {
     "iopub.execute_input": "2022-04-25T14:33:56.022114Z",
     "iopub.status.busy": "2022-04-25T14:33:56.021434Z",
     "iopub.status.idle": "2022-04-25T14:33:56.126519Z",
     "shell.execute_reply": "2022-04-25T14:33:56.126939Z"
    }
   },
   "outputs": [],
   "source": [
    "#- Plot the time course\n",
    "plt.plot(time_course)"
   ]
  },
  {
   "cell_type": "markdown",
   "id": "a9092cab",
   "metadata": {},
   "source": [
    "## Comparing task to rest\n",
    "\n",
    "Make a boolean array `is_task_tr` which is True when `time_course` is 1\n",
    "and False otherwise.\n",
    "\n",
    "Make another array `is_rest_tr` that is the opposite - True when\n",
    "`time_course` is 0 and False otherwise."
   ]
  },
  {
   "cell_type": "code",
   "execution_count": 13,
   "id": "26ff4e09",
   "metadata": {
    "execution": {
     "iopub.execute_input": "2022-04-25T14:33:56.130945Z",
     "iopub.status.busy": "2022-04-25T14:33:56.130171Z",
     "iopub.status.idle": "2022-04-25T14:33:56.132475Z",
     "shell.execute_reply": "2022-04-25T14:33:56.132964Z"
    }
   },
   "outputs": [],
   "source": [
    "#- Make two boolean arrays encoding task, rest\n",
    "is_task_tr = (time_course == 1)\n",
    "is_rest_tr = (time_course == 0)"
   ]
  },
  {
   "cell_type": "code",
   "execution_count": 14,
   "id": "0c4dfecf",
   "metadata": {
    "execution": {
     "iopub.execute_input": "2022-04-25T14:33:56.136764Z",
     "iopub.status.busy": "2022-04-25T14:33:56.136090Z",
     "iopub.status.idle": "2022-04-25T14:33:56.137891Z",
     "shell.execute_reply": "2022-04-25T14:33:56.138326Z"
    }
   },
   "outputs": [],
   "source": [
    "assert np.count_nonzero(is_task_tr) == 84  # 84 task scans\n",
    "assert np.count_nonzero(is_rest_tr) == 89  # 89 rest scans"
   ]
  },
  {
   "cell_type": "markdown",
   "id": "b717c2b5",
   "metadata": {},
   "source": [
    "Read the image data as a 4D array:"
   ]
  },
  {
   "cell_type": "code",
   "execution_count": 15,
   "id": "d1f79369",
   "metadata": {
    "execution": {
     "iopub.execute_input": "2022-04-25T14:33:56.166391Z",
     "iopub.status.busy": "2022-04-25T14:33:56.165728Z",
     "iopub.status.idle": "2022-04-25T14:33:56.255198Z",
     "shell.execute_reply": "2022-04-25T14:33:56.255648Z"
    }
   },
   "outputs": [],
   "source": [
    "#- Read the image data  an array.\n",
    "data = img.get_fdata()\n",
    "# Show the shape of the resulting array.\n",
    "data.shape"
   ]
  },
  {
   "cell_type": "markdown",
   "id": "4ec6b955",
   "metadata": {},
   "source": [
    "Remember that the 4D array consists of one volume (3D array) per TR.\n",
    "\n",
    "We want to select the volumes where the time course is 1 (task volumes).  Do\n",
    "this by slicing, using the boolean array you just made."
   ]
  },
  {
   "cell_type": "code",
   "execution_count": 16,
   "id": "bcaf6ad1",
   "metadata": {
    "execution": {
     "iopub.execute_input": "2022-04-25T14:33:56.259318Z",
     "iopub.status.busy": "2022-04-25T14:33:56.258696Z",
     "iopub.status.idle": "2022-04-25T14:33:56.300987Z",
     "shell.execute_reply": "2022-04-25T14:33:56.301409Z"
    }
   },
   "outputs": [],
   "source": [
    "#- Create a new 4D array only containing the task volumes\n",
    "on_volumes = data[..., is_task_tr]"
   ]
  },
  {
   "cell_type": "code",
   "execution_count": 17,
   "id": "f2e798d1",
   "metadata": {
    "execution": {
     "iopub.execute_input": "2022-04-25T14:33:56.305447Z",
     "iopub.status.busy": "2022-04-25T14:33:56.304794Z",
     "iopub.status.idle": "2022-04-25T14:33:56.306630Z",
     "shell.execute_reply": "2022-04-25T14:33:56.307049Z"
    },
    "lines_to_next_cell": 2
   },
   "outputs": [],
   "source": [
    "assert on_volumes.shape == data.shape[:-1] + (84,)"
   ]
  },
  {
   "cell_type": "markdown",
   "id": "cf164570",
   "metadata": {},
   "source": [
    "Select the volumes where the time course is 0 (rest volumes):"
   ]
  },
  {
   "cell_type": "code",
   "execution_count": 18,
   "id": "95469e64",
   "metadata": {
    "execution": {
     "iopub.execute_input": "2022-04-25T14:33:56.310532Z",
     "iopub.status.busy": "2022-04-25T14:33:56.309931Z",
     "iopub.status.idle": "2022-04-25T14:33:56.355171Z",
     "shell.execute_reply": "2022-04-25T14:33:56.355565Z"
    }
   },
   "outputs": [],
   "source": [
    "#- Create a new 4D array only containing the rest volumes\n",
    "off_volumes = data[..., is_rest_tr]"
   ]
  },
  {
   "cell_type": "code",
   "execution_count": 19,
   "id": "0c2aeba6",
   "metadata": {
    "execution": {
     "iopub.execute_input": "2022-04-25T14:33:56.359741Z",
     "iopub.status.busy": "2022-04-25T14:33:56.359040Z",
     "iopub.status.idle": "2022-04-25T14:33:56.361295Z",
     "shell.execute_reply": "2022-04-25T14:33:56.361876Z"
    }
   },
   "outputs": [],
   "source": [
    "assert off_volumes.shape == data.shape[:-1] + (89,)"
   ]
  },
  {
   "cell_type": "markdown",
   "id": "a01d82ed",
   "metadata": {},
   "source": [
    "We want to know whether there is a difference in signal in the task volumes\n",
    "compared to the rest volumes. Take the mean over the task volumes and mean\n",
    "over the rest volumes. You should end up with two 3D volumes."
   ]
  },
  {
   "cell_type": "code",
   "execution_count": 20,
   "id": "2a189f94",
   "metadata": {
    "execution": {
     "iopub.execute_input": "2022-04-25T14:33:56.366878Z",
     "iopub.status.busy": "2022-04-25T14:33:56.366067Z",
     "iopub.status.idle": "2022-04-25T14:33:56.387204Z",
     "shell.execute_reply": "2022-04-25T14:33:56.388195Z"
    }
   },
   "outputs": [],
   "source": [
    "#- Create the mean volume across all the task volumes.\n",
    "#- Then create the mean volume across all the rest volumes\n",
    "# Hint: remember the `axis` keyword.\n",
    "on_mean = on_volumes.mean(axis=-1)\n",
    "off_mean = off_volumes.mean(axis=-1)"
   ]
  },
  {
   "cell_type": "code",
   "execution_count": 21,
   "id": "81f7ed0a",
   "metadata": {
    "execution": {
     "iopub.execute_input": "2022-04-25T14:33:56.394713Z",
     "iopub.status.busy": "2022-04-25T14:33:56.393938Z",
     "iopub.status.idle": "2022-04-25T14:33:56.395920Z",
     "shell.execute_reply": "2022-04-25T14:33:56.396473Z"
    }
   },
   "outputs": [],
   "source": [
    "assert on_mean.shape == data.shape[:-1]\n",
    "assert off_mean.shape == data.shape[:-1]"
   ]
  },
  {
   "cell_type": "markdown",
   "id": "0dd99b92",
   "metadata": {},
   "source": [
    "Now subtract the rest mean from the task mean to get a difference volume."
   ]
  },
  {
   "cell_type": "code",
   "execution_count": 22,
   "id": "b8130571",
   "metadata": {
    "execution": {
     "iopub.execute_input": "2022-04-25T14:33:56.400865Z",
     "iopub.status.busy": "2022-04-25T14:33:56.400001Z",
     "iopub.status.idle": "2022-04-25T14:33:56.402842Z",
     "shell.execute_reply": "2022-04-25T14:33:56.403319Z"
    }
   },
   "outputs": [],
   "source": [
    "#- Create a difference volume\n",
    "difference = on_mean - off_mean"
   ]
  },
  {
   "cell_type": "code",
   "execution_count": 23,
   "id": "dcc26c44",
   "metadata": {
    "execution": {
     "iopub.execute_input": "2022-04-25T14:33:56.407766Z",
     "iopub.status.busy": "2022-04-25T14:33:56.406959Z",
     "iopub.status.idle": "2022-04-25T14:33:56.409178Z",
     "shell.execute_reply": "2022-04-25T14:33:56.409644Z"
    }
   },
   "outputs": [],
   "source": [
    "assert difference.shape == data.shape[:-1]"
   ]
  },
  {
   "cell_type": "markdown",
   "id": "eebf4c30",
   "metadata": {},
   "source": [
    "Show a slice over the third dimension of the difference volume, from somewhere\n",
    "around the center of the third axis:"
   ]
  },
  {
   "cell_type": "code",
   "execution_count": 24,
   "id": "0f2b2b5a",
   "metadata": {
    "execution": {
     "iopub.execute_input": "2022-04-25T14:33:56.430100Z",
     "iopub.status.busy": "2022-04-25T14:33:56.429393Z",
     "iopub.status.idle": "2022-04-25T14:33:56.525719Z",
     "shell.execute_reply": "2022-04-25T14:33:56.526141Z"
    }
   },
   "outputs": [],
   "source": [
    "#- Show a slice over the third dimension\n",
    "plt.imshow(difference[:, :, 14], cmap='gray')"
   ]
  },
  {
   "cell_type": "markdown",
   "id": "529ee583",
   "metadata": {},
   "source": [
    "This is the difference between activation and rest. It looks a little strange.\n",
    "Maybe there are some artefacts here."
   ]
  },
  {
   "cell_type": "markdown",
   "id": "06474665",
   "metadata": {},
   "source": [
    "## Fixing the artefact\n",
    "\n",
    "One way of looking for artefacts in a 4D image to find volumes with unusually\n",
    "high variance / standard deviation.\n",
    "\n",
    "There is one volume in this 4D image with particularly high standard deviation.\n",
    "\n",
    "In fact, this volume has a particularly high standard deviation across voxels.\n",
    "\n",
    "The standard deviation across voxels is the standard deviation of all the voxels in the 3D volume.  Thus, there will be one standard deviation across voxels, per volume.\n",
    "\n",
    "Calculate the standard deviation across voxels for each volume."
   ]
  },
  {
   "cell_type": "code",
   "execution_count": 25,
   "id": "a4d00984",
   "metadata": {
    "execution": {
     "iopub.execute_input": "2022-04-25T14:33:56.530222Z",
     "iopub.status.busy": "2022-04-25T14:33:56.529535Z",
     "iopub.status.idle": "2022-04-25T14:33:57.147735Z",
     "shell.execute_reply": "2022-04-25T14:33:57.148338Z"
    }
   },
   "outputs": [],
   "source": [
    "#- Calculate the SD across voxels for each volume\n",
    "#- Identify the outlier volume\n",
    "voxels_by_time = data.reshape((-1, data.shape[-1]))\n",
    "stds = np.std(voxels_by_time, axis=0)\n",
    "# Plot the result\n",
    "plt.plot(stds)"
   ]
  },
  {
   "cell_type": "markdown",
   "id": "22fc2b4e",
   "metadata": {},
   "source": [
    "Which volume is this (what position)?\n",
    "\n",
    "Use your slicing skills to remove this volume from your selection of rest (off)\n",
    "volumes."
   ]
  },
  {
   "cell_type": "code",
   "execution_count": 26,
   "id": "e1d16b1f",
   "metadata": {
    "execution": {
     "iopub.execute_input": "2022-04-25T14:33:57.152928Z",
     "iopub.status.busy": "2022-04-25T14:33:57.152221Z",
     "iopub.status.idle": "2022-04-25T14:33:57.154797Z",
     "shell.execute_reply": "2022-04-25T14:33:57.155253Z"
    }
   },
   "outputs": [],
   "source": [
    "#- Use slicing to remove outlier volume from rest volumes\n",
    "off_volumes_fixed = off_volumes[..., 1:]\n",
    "# Show the shape\n",
    "off_volumes_fixed.shape"
   ]
  },
  {
   "cell_type": "code",
   "execution_count": 27,
   "id": "7e065cb1",
   "metadata": {
    "execution": {
     "iopub.execute_input": "2022-04-25T14:33:57.159079Z",
     "iopub.status.busy": "2022-04-25T14:33:57.158453Z",
     "iopub.status.idle": "2022-04-25T14:33:57.160256Z",
     "shell.execute_reply": "2022-04-25T14:33:57.160674Z"
    }
   },
   "outputs": [],
   "source": [
    "assert off_volumes_fixed.shape == data.shape[:-1] + (88,)"
   ]
  },
  {
   "cell_type": "markdown",
   "id": "52b4324a",
   "metadata": {},
   "source": [
    "Make a new mean for the rest volumes, and subtract this mean from the mean for\n",
    "the task volumes to make a new difference image.\n",
    "\n",
    "Give the new difference image a new name, so we can compare to the old\n",
    "difference image later."
   ]
  },
  {
   "cell_type": "code",
   "execution_count": 28,
   "id": "7a6c98ed",
   "metadata": {
    "execution": {
     "iopub.execute_input": "2022-04-25T14:33:57.164409Z",
     "iopub.status.busy": "2022-04-25T14:33:57.163738Z",
     "iopub.status.idle": "2022-04-25T14:33:57.173127Z",
     "shell.execute_reply": "2022-04-25T14:33:57.173615Z"
    }
   },
   "outputs": [],
   "source": [
    "#- Make new mean for rest volumes, subtract from task mean\n",
    "off_mean_fixed = off_volumes_fixed.mean(axis=-1)\n",
    "difference_fixed = on_mean - off_mean_fixed"
   ]
  },
  {
   "cell_type": "code",
   "execution_count": 29,
   "id": "dd2a5e88",
   "metadata": {
    "execution": {
     "iopub.execute_input": "2022-04-25T14:33:57.177228Z",
     "iopub.status.busy": "2022-04-25T14:33:57.176591Z",
     "iopub.status.idle": "2022-04-25T14:33:57.178463Z",
     "shell.execute_reply": "2022-04-25T14:33:57.178969Z"
    },
    "lines_to_next_cell": 2
   },
   "outputs": [],
   "source": [
    "assert difference_fixed.shape == data.shape[:-1]"
   ]
  },
  {
   "cell_type": "markdown",
   "id": "9f975a50",
   "metadata": {},
   "source": [
    "Show an example slice from the new difference volume. Show the same slice from\n",
    "the old difference volume, using matplotlib."
   ]
  },
  {
   "cell_type": "code",
   "execution_count": 30,
   "id": "8ca529f0",
   "metadata": {
    "execution": {
     "iopub.execute_input": "2022-04-25T14:33:57.198317Z",
     "iopub.status.busy": "2022-04-25T14:33:57.195324Z",
     "iopub.status.idle": "2022-04-25T14:33:57.291471Z",
     "shell.execute_reply": "2022-04-25T14:33:57.291894Z"
    }
   },
   "outputs": [],
   "source": [
    "#- show same slice from old and new difference volume\n",
    "plt.imshow(difference_fixed[:, :, 14], cmap='gray')"
   ]
  }
 ],
 "metadata": {
  "jupytext": {
   "notebook_metadata_filter": "all,-language_info",
   "split_at_heading": true,
   "text_representation": {
    "extension": ".Rmd",
    "format_name": "rmarkdown",
    "format_version": "1.2",
    "jupytext_version": "1.13.7"
   }
  },
  "kernelspec": {
   "display_name": "Python 3",
   "language": "python",
   "name": "python3"
  },
  "language_info": {
   "codemirror_mode": {
    "name": "ipython",
    "version": 3
   },
   "file_extension": ".py",
   "mimetype": "text/x-python",
   "name": "python",
   "nbconvert_exporter": "python",
   "pygments_lexer": "ipython3",
   "version": "3.8.13"
  }
 },
 "nbformat": 4,
 "nbformat_minor": 5
}
