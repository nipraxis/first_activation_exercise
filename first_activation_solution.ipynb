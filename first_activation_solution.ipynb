{
 "cells": [
  {
   "cell_type": "markdown",
   "id": "9a24d4e1",
   "metadata": {},
   "source": [
    "# First go at brain activation"
   ]
  },
  {
   "cell_type": "code",
   "execution_count": 1,
   "id": "b8f0b6d3",
   "metadata": {
    "execution": {
     "iopub.execute_input": "2022-04-27T15:45:50.883007Z",
     "iopub.status.busy": "2022-04-27T15:45:50.882303Z",
     "iopub.status.idle": "2022-04-27T15:45:51.654459Z",
     "shell.execute_reply": "2022-04-27T15:45:51.654885Z"
    }
   },
   "outputs": [],
   "source": [
    "# import common modules\n",
    "import numpy as np  # the Python array package\n",
    "import matplotlib.pyplot as plt  # the Python plotting package\n",
    "# Display array values to 6 digits of precision\n",
    "np.set_printoptions(precision=4, suppress=True)\n",
    "\n",
    "# Image library.\n",
    "import nibabel as nib\n",
    "\n",
    "# Course library.\n",
    "import nipraxis"
   ]
  },
  {
   "cell_type": "markdown",
   "id": "adc6b28e",
   "metadata": {},
   "source": [
    "## The simplest possible way to find task activation\n",
    "\n",
    "We are going to look at a functional MRI task run, taken while the subject did\n",
    "a task.  The task was a block design, where the subject rested, then thought of\n",
    "as many verbs as they could for 30 seconds, then rested for 30 seconds, and so\n",
    "on.\n",
    "\n",
    "We are interested to find voxels that have higher signal for the scans while the subject was doing the task, then when the subject was resting.\n",
    "\n",
    "One very simple way of doing this, is the following:\n",
    "\n",
    "* Identify all the scans taken while the subject was doing the task.  Call\n",
    "  these the *task volumes*.  Take an average across volume, of these task\n",
    "  volumes to get a *task average* volume.\n",
    "* Do the same thing for the rest volumes to get a *rest average* volume.\n",
    "* Subtract the rest average volume from the task average volume to get the\n",
    "  *difference average* volume.\n",
    "\n",
    "Voxels with high signal in the *difference average* volume are voxels that had\n",
    "higher average signal during the task scans than during the rest scans.  These\n",
    "may be voxels *activated* by the task."
   ]
  },
  {
   "cell_type": "markdown",
   "id": "8fd44c9b",
   "metadata": {},
   "source": [
    "## The task time-course\n",
    "\n",
    "We have previously had a look at the file `ds114_sub009_t2r1.nii`. This is a 4D\n",
    "FMRI image."
   ]
  },
  {
   "cell_type": "code",
   "execution_count": 2,
   "id": "2d835088",
   "metadata": {
    "execution": {
     "iopub.execute_input": "2022-04-27T15:45:51.658949Z",
     "iopub.status.busy": "2022-04-27T15:45:51.658296Z",
     "iopub.status.idle": "2022-04-27T15:45:51.736580Z",
     "shell.execute_reply": "2022-04-27T15:45:51.737018Z"
    }
   },
   "outputs": [],
   "source": [
    "# Fetch the data file to this computer.\n",
    "bold_fname = nipraxis.fetch_file('ds114_sub009_t2r1.nii')\n",
    "# Show the filename\n",
    "bold_fname"
   ]
  },
  {
   "cell_type": "markdown",
   "id": "c3294546",
   "metadata": {},
   "source": [
    "Now we want to see whether we can detect any signal in that image relating to\n",
    "the task.\n",
    "\n",
    "The task was a block design with 10 seconds rest followed by 7 repeats of (30\n",
    "seconds when the subject thought of verbs followed by 30 seconds rest). This\n",
    "is called a “covert” task, because the subjects were thinking of verbs instead\n",
    "of saying them.\n",
    "\n",
    "We next fetch the text file containing information about the block onsets. It\n",
    "comes from subject 9 task 2 and run 1 of the [ds114\n",
    "dataset](https://openfmri.org/dataset/ds000114), from the [OpenFMRI](https://openfmri.org/) project."
   ]
  },
  {
   "cell_type": "code",
   "execution_count": 3,
   "id": "6d56245d",
   "metadata": {
    "execution": {
     "iopub.execute_input": "2022-04-27T15:45:51.741385Z",
     "iopub.status.busy": "2022-04-27T15:45:51.740765Z",
     "iopub.status.idle": "2022-04-27T15:45:51.745177Z",
     "shell.execute_reply": "2022-04-27T15:45:51.745605Z"
    }
   },
   "outputs": [],
   "source": [
    "# Fetch the task definition file to this computer.\n",
    "stim_fname = nipraxis.fetch_file('ds114_sub009_t2r1_cond.txt')\n",
    "# Show the filename\n",
    "stim_fname"
   ]
  },
  {
   "cell_type": "markdown",
   "id": "7ca8c39e",
   "metadata": {},
   "source": [
    "The file has one line of text per “on” block, giving the onset time of the\n",
    "block (in seconds), the duration of the block (in seconds) and the amplitude\n",
    "(expected amount of activation for this block - not used in this case).\n",
    "\n",
    "Here are the first four lines:\n",
    "\n",
    "```\n",
    "10  30.000000   1\n",
    "70  30.000000   1\n",
    "130 30.000000   1\n",
    "190 30.000000   1\n",
    "```\n",
    "\n",
    "Read the file into a (number of blocks by 3) array called `task`."
   ]
  },
  {
   "cell_type": "code",
   "execution_count": 4,
   "id": "499c254f",
   "metadata": {
    "execution": {
     "iopub.execute_input": "2022-04-27T15:45:51.749857Z",
     "iopub.status.busy": "2022-04-27T15:45:51.749238Z",
     "iopub.status.idle": "2022-04-27T15:45:51.753131Z",
     "shell.execute_reply": "2022-04-27T15:45:51.753560Z"
    }
   },
   "outputs": [],
   "source": [
    "#- Read the file into an array called \"task\".\n",
    "#- \"task\" should have 3 columns (onset, duration, amplitude)\n",
    "task = np.loadtxt(stim_fname)\n",
    "# Show the result.\n",
    "task"
   ]
  },
  {
   "cell_type": "markdown",
   "id": "205c24fb",
   "metadata": {},
   "source": [
    "The repetition time (time to repeat, TR) for this FMRI run was 2.5 seconds. We\n",
    "need to convert the onsets and durations to TRs - so for example the first\n",
    "onset was at 10 seconds, which was the start of TR 4 (10 / 2.5).\n",
    "\n",
    "Select out the first two columns of task, and divide by the TR to convert the\n",
    "onset and duration times to be in terms of TRs instead of seconds:"
   ]
  },
  {
   "cell_type": "code",
   "execution_count": 5,
   "id": "217e63f2",
   "metadata": {
    "execution": {
     "iopub.execute_input": "2022-04-27T15:45:51.758149Z",
     "iopub.status.busy": "2022-04-27T15:45:51.757469Z",
     "iopub.status.idle": "2022-04-27T15:45:51.759992Z",
     "shell.execute_reply": "2022-04-27T15:45:51.760470Z"
    }
   },
   "outputs": [],
   "source": [
    "#- Select first two columns and divide by TR\n",
    "ons_durs = task[:, :2] / 2.5\n",
    "# Show the result\n",
    "ons_durs"
   ]
  },
  {
   "cell_type": "code",
   "execution_count": 6,
   "id": "11c5bd9c",
   "metadata": {
    "execution": {
     "iopub.execute_input": "2022-04-27T15:45:51.764301Z",
     "iopub.status.busy": "2022-04-27T15:45:51.763700Z",
     "iopub.status.idle": "2022-04-27T15:45:51.765466Z",
     "shell.execute_reply": "2022-04-27T15:45:51.765882Z"
    },
    "lines_to_next_cell": 2
   },
   "outputs": [],
   "source": [
    "assert ons_durs.shape == (7, 2)\n",
    "assert np.all(ons_durs[-1] == [148, 12])"
   ]
  },
  {
   "cell_type": "markdown",
   "id": "15b32b98",
   "metadata": {},
   "source": [
    "Our next step is to make an on-off vector that is 0 when the subject is doing\n",
    "nothing and 1 when the subject is doing the covert verb task.\n",
    "\n",
    "The vector will have one value (either 0 or 1) for each TR.\n",
    "\n",
    "First use nibabel to load the image `ds114_sub009_t2r1.nii`. Check the image\n",
    "shape to find the number of TRs."
   ]
  },
  {
   "cell_type": "code",
   "execution_count": 7,
   "id": "b09ed70e",
   "metadata": {
    "execution": {
     "iopub.execute_input": "2022-04-27T15:45:51.769385Z",
     "iopub.status.busy": "2022-04-27T15:45:51.768773Z",
     "iopub.status.idle": "2022-04-27T15:45:51.773228Z",
     "shell.execute_reply": "2022-04-27T15:45:51.773656Z"
    }
   },
   "outputs": [],
   "source": [
    "#- Load the image and check the image shape to get the number of TRs\n",
    "img = nib.load(bold_fname)\n",
    "# Show the shape of the image.\n",
    "img.shape"
   ]
  },
  {
   "cell_type": "markdown",
   "id": "24fbf395",
   "metadata": {},
   "source": [
    "Next make a new vector called `time_course` with one entry per TR, with all\n",
    "elements in the vector being zero:"
   ]
  },
  {
   "cell_type": "code",
   "execution_count": 8,
   "id": "20e589b3",
   "metadata": {
    "execution": {
     "iopub.execute_input": "2022-04-27T15:45:51.777358Z",
     "iopub.status.busy": "2022-04-27T15:45:51.776756Z",
     "iopub.status.idle": "2022-04-27T15:45:51.778442Z",
     "shell.execute_reply": "2022-04-27T15:45:51.778936Z"
    }
   },
   "outputs": [],
   "source": [
    "#- Make new zero vector\n",
    "time_course = np.zeros(img.shape[-1])"
   ]
  },
  {
   "cell_type": "code",
   "execution_count": 9,
   "id": "a76b2d40",
   "metadata": {
    "execution": {
     "iopub.execute_input": "2022-04-27T15:45:51.782617Z",
     "iopub.status.busy": "2022-04-27T15:45:51.781970Z",
     "iopub.status.idle": "2022-04-27T15:45:51.784227Z",
     "shell.execute_reply": "2022-04-27T15:45:51.783790Z"
    },
    "lines_to_next_cell": 2
   },
   "outputs": [],
   "source": [
    "assert isinstance(time_course, np.ndarray)\n",
    "assert time_course.shape == (img.shape[-1],)"
   ]
  },
  {
   "cell_type": "markdown",
   "id": "ec5333bc",
   "metadata": {},
   "source": [
    "Loop over the rows in the onsets / durations array to give you an onset /\n",
    "duration pair. For each of these pairs, set the matching positions in the\n",
    "`time_course` vector to 1. For example, the first pair will be `4, 12`. That\n",
    "means the task started at the beginning of scan index 4, and lasted for 12\n",
    "scans. There should be 12 consecutive 1 values in `time_course`,\n",
    "starting at index 4. Index 4 + 12 = 16 should be zero again, because there are\n",
    "12 values starting at (including) 4 going up to (but *not* including) 16."
   ]
  },
  {
   "cell_type": "code",
   "execution_count": 10,
   "id": "81abd642",
   "metadata": {
    "execution": {
     "iopub.execute_input": "2022-04-27T15:45:51.788092Z",
     "iopub.status.busy": "2022-04-27T15:45:51.787382Z",
     "iopub.status.idle": "2022-04-27T15:45:51.789831Z",
     "shell.execute_reply": "2022-04-27T15:45:51.790423Z"
    }
   },
   "outputs": [],
   "source": [
    "# Try running this if you don't believe me\n",
    "len(range(4, 16))"
   ]
  },
  {
   "cell_type": "markdown",
   "id": "5adced2b",
   "metadata": {},
   "source": [
    "So, for the first row, you will want to set `time_course[4]` through\n",
    "`time_course[15]` equal to 1.\n",
    "\n",
    "**Hint** - you may consider converting `ons_durs` to integers to make your task\n",
    "easier."
   ]
  },
  {
   "cell_type": "code",
   "execution_count": 11,
   "id": "acc25d51",
   "metadata": {
    "execution": {
     "iopub.execute_input": "2022-04-27T15:45:51.795764Z",
     "iopub.status.busy": "2022-04-27T15:45:51.795091Z",
     "iopub.status.idle": "2022-04-27T15:45:51.797601Z",
     "shell.execute_reply": "2022-04-27T15:45:51.798116Z"
    }
   },
   "outputs": [],
   "source": [
    "#- Fill in values of 1 for positions of on blocks in time course\n",
    "# See https://textbook.nipraxis.org/tuple_unpacking on how this next line\n",
    "# works.\n",
    "for onset, duration in ons_durs.astype(int):\n",
    "    time_course[onset:onset + duration] = 1\n",
    "# Show the result\n",
    "time_course"
   ]
  },
  {
   "cell_type": "markdown",
   "id": "2ef1d3d0",
   "metadata": {},
   "source": [
    "Plot the time course:"
   ]
  },
  {
   "cell_type": "code",
   "execution_count": 12,
   "id": "6f01820c",
   "metadata": {
    "execution": {
     "iopub.execute_input": "2022-04-27T15:45:51.820968Z",
     "iopub.status.busy": "2022-04-27T15:45:51.820268Z",
     "iopub.status.idle": "2022-04-27T15:45:51.930544Z",
     "shell.execute_reply": "2022-04-27T15:45:51.930980Z"
    }
   },
   "outputs": [],
   "source": [
    "#- Plot the time course\n",
    "plt.plot(time_course)"
   ]
  },
  {
   "cell_type": "markdown",
   "id": "8ad6371c",
   "metadata": {},
   "source": [
    "## Comparing task to rest\n",
    "\n",
    "Make a boolean array `is_task_tr` which is True when `time_course` is 1\n",
    "and False otherwise.\n",
    "\n",
    "Make another array `is_rest_tr` that is the opposite - True when\n",
    "`time_course` is 0 and False otherwise."
   ]
  },
  {
   "cell_type": "code",
   "execution_count": 13,
   "id": "8783bf1b",
   "metadata": {
    "execution": {
     "iopub.execute_input": "2022-04-27T15:45:51.934828Z",
     "iopub.status.busy": "2022-04-27T15:45:51.934226Z",
     "iopub.status.idle": "2022-04-27T15:45:51.936045Z",
     "shell.execute_reply": "2022-04-27T15:45:51.936429Z"
    }
   },
   "outputs": [],
   "source": [
    "#- Make two boolean arrays encoding task, rest\n",
    "is_task_tr = (time_course == 1)\n",
    "is_rest_tr = (time_course == 0)"
   ]
  },
  {
   "cell_type": "code",
   "execution_count": 14,
   "id": "ae33bbce",
   "metadata": {
    "execution": {
     "iopub.execute_input": "2022-04-27T15:45:51.940544Z",
     "iopub.status.busy": "2022-04-27T15:45:51.939937Z",
     "iopub.status.idle": "2022-04-27T15:45:51.941812Z",
     "shell.execute_reply": "2022-04-27T15:45:51.942238Z"
    }
   },
   "outputs": [],
   "source": [
    "assert np.count_nonzero(is_task_tr) == 84  # 84 task scans\n",
    "assert np.count_nonzero(is_rest_tr) == 89  # 89 rest scans"
   ]
  },
  {
   "cell_type": "markdown",
   "id": "32147567",
   "metadata": {},
   "source": [
    "Read the image data as a 4D array:"
   ]
  },
  {
   "cell_type": "code",
   "execution_count": 15,
   "id": "07b45f8c",
   "metadata": {
    "execution": {
     "iopub.execute_input": "2022-04-27T15:45:51.969170Z",
     "iopub.status.busy": "2022-04-27T15:45:51.968450Z",
     "iopub.status.idle": "2022-04-27T15:45:52.058559Z",
     "shell.execute_reply": "2022-04-27T15:45:52.059063Z"
    }
   },
   "outputs": [],
   "source": [
    "#- Read the image data  an array.\n",
    "data = img.get_fdata()\n",
    "# Show the shape of the resulting array.\n",
    "data.shape"
   ]
  },
  {
   "cell_type": "markdown",
   "id": "c92c6eb5",
   "metadata": {},
   "source": [
    "Remember that the 4D array consists of one volume (3D array) per TR.\n",
    "\n",
    "We want to select the volumes where the time course is 1 (task volumes).  Do\n",
    "this by slicing, using the boolean array you just made."
   ]
  },
  {
   "cell_type": "code",
   "execution_count": 16,
   "id": "bbdb8ab4",
   "metadata": {
    "execution": {
     "iopub.execute_input": "2022-04-27T15:45:52.062527Z",
     "iopub.status.busy": "2022-04-27T15:45:52.061919Z",
     "iopub.status.idle": "2022-04-27T15:45:52.104374Z",
     "shell.execute_reply": "2022-04-27T15:45:52.104812Z"
    }
   },
   "outputs": [],
   "source": [
    "#- Create a new 4D array only containing the task volumes\n",
    "on_volumes = data[..., is_task_tr]"
   ]
  },
  {
   "cell_type": "code",
   "execution_count": 17,
   "id": "be2a3179",
   "metadata": {
    "execution": {
     "iopub.execute_input": "2022-04-27T15:45:52.109130Z",
     "iopub.status.busy": "2022-04-27T15:45:52.108487Z",
     "iopub.status.idle": "2022-04-27T15:45:52.110491Z",
     "shell.execute_reply": "2022-04-27T15:45:52.110907Z"
    },
    "lines_to_next_cell": 2
   },
   "outputs": [],
   "source": [
    "assert on_volumes.shape == data.shape[:-1] + (84,)"
   ]
  },
  {
   "cell_type": "markdown",
   "id": "2fe1352f",
   "metadata": {},
   "source": [
    "Select the volumes where the time course is 0 (rest volumes):"
   ]
  },
  {
   "cell_type": "code",
   "execution_count": 18,
   "id": "00181d24",
   "metadata": {
    "execution": {
     "iopub.execute_input": "2022-04-27T15:45:52.114348Z",
     "iopub.status.busy": "2022-04-27T15:45:52.113720Z",
     "iopub.status.idle": "2022-04-27T15:45:52.158012Z",
     "shell.execute_reply": "2022-04-27T15:45:52.158563Z"
    }
   },
   "outputs": [],
   "source": [
    "#- Create a new 4D array only containing the rest volumes\n",
    "off_volumes = data[..., is_rest_tr]"
   ]
  },
  {
   "cell_type": "code",
   "execution_count": 19,
   "id": "387b2397",
   "metadata": {
    "execution": {
     "iopub.execute_input": "2022-04-27T15:45:52.162308Z",
     "iopub.status.busy": "2022-04-27T15:45:52.161661Z",
     "iopub.status.idle": "2022-04-27T15:45:52.163696Z",
     "shell.execute_reply": "2022-04-27T15:45:52.164116Z"
    }
   },
   "outputs": [],
   "source": [
    "assert off_volumes.shape == data.shape[:-1] + (89,)"
   ]
  },
  {
   "cell_type": "markdown",
   "id": "12bcfb4a",
   "metadata": {},
   "source": [
    "We want to know whether there is a difference in signal in the task volumes\n",
    "compared to the rest volumes. Take the mean over the task volumes and mean\n",
    "over the rest volumes. You should end up with two 3D volumes."
   ]
  },
  {
   "cell_type": "code",
   "execution_count": 20,
   "id": "c8cd5117",
   "metadata": {
    "execution": {
     "iopub.execute_input": "2022-04-27T15:45:52.167930Z",
     "iopub.status.busy": "2022-04-27T15:45:52.167306Z",
     "iopub.status.idle": "2022-04-27T15:45:52.184904Z",
     "shell.execute_reply": "2022-04-27T15:45:52.184379Z"
    }
   },
   "outputs": [],
   "source": [
    "#- Create the mean volume across all the task volumes.\n",
    "#- Then create the mean volume across all the rest volumes\n",
    "# Hint: remember the `axis` keyword.\n",
    "on_mean = on_volumes.mean(axis=-1)\n",
    "off_mean = off_volumes.mean(axis=-1)"
   ]
  },
  {
   "cell_type": "code",
   "execution_count": 21,
   "id": "2aaafee4",
   "metadata": {
    "execution": {
     "iopub.execute_input": "2022-04-27T15:45:52.188944Z",
     "iopub.status.busy": "2022-04-27T15:45:52.188275Z",
     "iopub.status.idle": "2022-04-27T15:45:52.190603Z",
     "shell.execute_reply": "2022-04-27T15:45:52.190087Z"
    }
   },
   "outputs": [],
   "source": [
    "assert on_mean.shape == data.shape[:-1]\n",
    "assert off_mean.shape == data.shape[:-1]"
   ]
  },
  {
   "cell_type": "markdown",
   "id": "6a5cae01",
   "metadata": {},
   "source": [
    "Now subtract the rest mean from the task mean to get a difference volume."
   ]
  },
  {
   "cell_type": "code",
   "execution_count": 22,
   "id": "69a790f7",
   "metadata": {
    "execution": {
     "iopub.execute_input": "2022-04-27T15:45:52.193928Z",
     "iopub.status.busy": "2022-04-27T15:45:52.193282Z",
     "iopub.status.idle": "2022-04-27T15:45:52.195726Z",
     "shell.execute_reply": "2022-04-27T15:45:52.196144Z"
    }
   },
   "outputs": [],
   "source": [
    "#- Create a difference volume\n",
    "difference = on_mean - off_mean"
   ]
  },
  {
   "cell_type": "code",
   "execution_count": 23,
   "id": "d8de3c3a",
   "metadata": {
    "execution": {
     "iopub.execute_input": "2022-04-27T15:45:52.199815Z",
     "iopub.status.busy": "2022-04-27T15:45:52.199225Z",
     "iopub.status.idle": "2022-04-27T15:45:52.200973Z",
     "shell.execute_reply": "2022-04-27T15:45:52.201386Z"
    }
   },
   "outputs": [],
   "source": [
    "assert difference.shape == data.shape[:-1]"
   ]
  },
  {
   "cell_type": "markdown",
   "id": "d35f5a13",
   "metadata": {},
   "source": [
    "Show a slice over the third dimension of the difference volume, from somewhere\n",
    "around the center of the third axis:"
   ]
  },
  {
   "cell_type": "code",
   "execution_count": 24,
   "id": "449fc827",
   "metadata": {
    "execution": {
     "iopub.execute_input": "2022-04-27T15:45:52.221122Z",
     "iopub.status.busy": "2022-04-27T15:45:52.219905Z",
     "iopub.status.idle": "2022-04-27T15:45:52.312905Z",
     "shell.execute_reply": "2022-04-27T15:45:52.313323Z"
    }
   },
   "outputs": [],
   "source": [
    "#- Show a slice over the third dimension\n",
    "plt.imshow(difference[:, :, 14], cmap='gray')"
   ]
  },
  {
   "cell_type": "markdown",
   "id": "da6576f5",
   "metadata": {},
   "source": [
    "This is the difference between activation and rest. It looks a little strange.\n",
    "Maybe there are some artefacts here."
   ]
  },
  {
   "cell_type": "markdown",
   "id": "e892148b",
   "metadata": {},
   "source": [
    "## Fixing the artefact\n",
    "\n",
    "One way of looking for artefacts in a 4D image to find volumes with unusually\n",
    "high variance / standard deviation.\n",
    "\n",
    "There is one volume in this 4D image with particularly high standard deviation.\n",
    "\n",
    "In fact, this volume has a particularly high standard deviation across voxels.\n",
    "\n",
    "The standard deviation across voxels is the standard deviation of all the voxels in the 3D volume.  Thus, there will be one standard deviation across voxels, per volume.\n",
    "\n",
    "Calculate the standard deviation across voxels for each volume."
   ]
  },
  {
   "cell_type": "code",
   "execution_count": 25,
   "id": "d56ccdab",
   "metadata": {
    "execution": {
     "iopub.execute_input": "2022-04-27T15:45:52.317554Z",
     "iopub.status.busy": "2022-04-27T15:45:52.316928Z",
     "iopub.status.idle": "2022-04-27T15:45:52.932228Z",
     "shell.execute_reply": "2022-04-27T15:45:52.932743Z"
    }
   },
   "outputs": [],
   "source": [
    "#- Calculate the SD across voxels for each volume\n",
    "#- Identify the outlier volume\n",
    "voxels_by_time = data.reshape((-1, data.shape[-1]))\n",
    "stds = np.std(voxels_by_time, axis=0)\n",
    "# Plot the result\n",
    "plt.plot(stds)"
   ]
  },
  {
   "cell_type": "markdown",
   "id": "19969073",
   "metadata": {},
   "source": [
    "Which volume is this (what position)?\n",
    "\n",
    "Use your slicing skills to remove this volume from your selection of rest (off)\n",
    "volumes."
   ]
  },
  {
   "cell_type": "code",
   "execution_count": 26,
   "id": "34237ae6",
   "metadata": {
    "execution": {
     "iopub.execute_input": "2022-04-27T15:45:52.936822Z",
     "iopub.status.busy": "2022-04-27T15:45:52.936222Z",
     "iopub.status.idle": "2022-04-27T15:45:52.938983Z",
     "shell.execute_reply": "2022-04-27T15:45:52.939486Z"
    }
   },
   "outputs": [],
   "source": [
    "#- Use slicing to remove outlier volume from rest volumes\n",
    "off_volumes_fixed = off_volumes[..., 1:]\n",
    "# Show the shape\n",
    "off_volumes_fixed.shape"
   ]
  },
  {
   "cell_type": "code",
   "execution_count": 27,
   "id": "f2647a46",
   "metadata": {
    "execution": {
     "iopub.execute_input": "2022-04-27T15:45:52.943389Z",
     "iopub.status.busy": "2022-04-27T15:45:52.942780Z",
     "iopub.status.idle": "2022-04-27T15:45:52.944611Z",
     "shell.execute_reply": "2022-04-27T15:45:52.945026Z"
    }
   },
   "outputs": [],
   "source": [
    "assert off_volumes_fixed.shape == data.shape[:-1] + (88,)"
   ]
  },
  {
   "cell_type": "markdown",
   "id": "b4959211",
   "metadata": {},
   "source": [
    "Make a new mean for the rest volumes, and subtract this mean from the mean for\n",
    "the task volumes to make a new difference image.\n",
    "\n",
    "Give the new difference image a new name, so we can compare to the old\n",
    "difference image later."
   ]
  },
  {
   "cell_type": "code",
   "execution_count": 28,
   "id": "a213d298",
   "metadata": {
    "execution": {
     "iopub.execute_input": "2022-04-27T15:45:52.948570Z",
     "iopub.status.busy": "2022-04-27T15:45:52.947958Z",
     "iopub.status.idle": "2022-04-27T15:45:52.957199Z",
     "shell.execute_reply": "2022-04-27T15:45:52.957617Z"
    }
   },
   "outputs": [],
   "source": [
    "#- Make new mean for rest volumes, subtract from task mean\n",
    "off_mean_fixed = off_volumes_fixed.mean(axis=-1)\n",
    "difference_fixed = on_mean - off_mean_fixed"
   ]
  },
  {
   "cell_type": "code",
   "execution_count": 29,
   "id": "cc9ba614",
   "metadata": {
    "execution": {
     "iopub.execute_input": "2022-04-27T15:45:52.961125Z",
     "iopub.status.busy": "2022-04-27T15:45:52.960539Z",
     "iopub.status.idle": "2022-04-27T15:45:52.962368Z",
     "shell.execute_reply": "2022-04-27T15:45:52.962788Z"
    },
    "lines_to_next_cell": 2
   },
   "outputs": [],
   "source": [
    "assert difference_fixed.shape == data.shape[:-1]"
   ]
  },
  {
   "cell_type": "markdown",
   "id": "c3703d21",
   "metadata": {},
   "source": [
    "Show an example slice from the new difference volume. Show the same slice from\n",
    "the old difference volume, using matplotlib."
   ]
  },
  {
   "cell_type": "code",
   "execution_count": 30,
   "id": "d88c4b5e",
   "metadata": {
    "execution": {
     "iopub.execute_input": "2022-04-27T15:45:52.982340Z",
     "iopub.status.busy": "2022-04-27T15:45:52.981503Z",
     "iopub.status.idle": "2022-04-27T15:45:53.075198Z",
     "shell.execute_reply": "2022-04-27T15:45:53.075875Z"
    }
   },
   "outputs": [],
   "source": [
    "#- show same slice from old and new difference volume\n",
    "plt.imshow(difference_fixed[:, :, 14], cmap='gray')"
   ]
  }
 ],
 "metadata": {
  "jupytext": {
   "notebook_metadata_filter": "all,-language_info",
   "split_at_heading": true,
   "text_representation": {
    "extension": ".Rmd",
    "format_name": "rmarkdown",
    "format_version": "1.2",
    "jupytext_version": "1.13.7"
   }
  },
  "kernelspec": {
   "display_name": "Python 3",
   "language": "python",
   "name": "python3"
  },
  "language_info": {
   "codemirror_mode": {
    "name": "ipython",
    "version": 3
   },
   "file_extension": ".py",
   "mimetype": "text/x-python",
   "name": "python",
   "nbconvert_exporter": "python",
   "pygments_lexer": "ipython3",
   "version": "3.8.13"
  }
 },
 "nbformat": 4,
 "nbformat_minor": 5
}
